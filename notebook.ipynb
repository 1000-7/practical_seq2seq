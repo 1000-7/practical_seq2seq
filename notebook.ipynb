{
 "cells": [
  {
   "cell_type": "markdown",
   "metadata": {},
   "source": [
    "# Demonstrate Seq2Seq Wrapper with CMUDict dataset"
   ]
  },
  {
   "cell_type": "code",
   "execution_count": 1,
   "metadata": {
    "collapsed": true
   },
   "outputs": [],
   "source": [
    "import tensorflow as tf\n",
    "import numpy as np\n",
    "\n",
    "# preprocessed data\n",
    "from datasets.cmudict import data, data_utils"
   ]
  },
  {
   "cell_type": "code",
   "execution_count": 2,
   "metadata": {
    "collapsed": false
   },
   "outputs": [],
   "source": [
    "# load data from pickle and npy files\n",
    "data_ctl, idx_words, idx_phonemes = data.load_data(PATH='datasets/cmudict/')\n",
    "(trainX, trainY), (testX, testY), (validX, validY) = data_utils.split_dataset(idx_phonemes, idx_words)"
   ]
  },
  {
   "cell_type": "code",
   "execution_count": 3,
   "metadata": {
    "collapsed": false
   },
   "outputs": [],
   "source": [
    "# parameters \n",
    "xseq_len = trainX.shape[-1]\n",
    "yseq_len = trainY.shape[-1]\n",
    "batch_size = 128\n",
    "xvocab_size = len(data_ctl['idx2pho'].keys())  \n",
    "yvocab_size = len(data_ctl['idx2alpha'].keys())\n",
    "emb_dim = 128"
   ]
  },
  {
   "cell_type": "markdown",
   "metadata": {},
   "source": [
    "## Create an instance of the Wrapper"
   ]
  },
  {
   "cell_type": "code",
   "execution_count": 4,
   "metadata": {
    "collapsed": false
   },
   "outputs": [],
   "source": [
    "import seq2seq_wrapper"
   ]
  },
  {
   "cell_type": "code",
   "execution_count": 28,
   "metadata": {
    "collapsed": false
   },
   "outputs": [
    {
     "data": {
      "text/plain": [
       "<module 'seq2seq_wrapper' from '/home/suriya/_/tf/tf-seq2seq-wrapper/seq2seq_wrapper.py'>"
      ]
     },
     "execution_count": 28,
     "metadata": {},
     "output_type": "execute_result"
    }
   ],
   "source": [
    "import importlib\n",
    "importlib.reload(seq2seq_wrapper)"
   ]
  },
  {
   "cell_type": "code",
   "execution_count": 29,
   "metadata": {
    "collapsed": false
   },
   "outputs": [
    {
     "name": "stdout",
     "output_type": "stream",
     "text": [
      "Building Graph"
     ]
    }
   ],
   "source": [
    "model = seq2seq_wrapper.Seq2Seq(xseq_len=xseq_len,\n",
    "                               yseq_len=yseq_len,\n",
    "                               xvocab_size=xvocab_size,\n",
    "                               yvocab_size=yvocab_size,\n",
    "                               ckpt_path='ckpt/cmudict/',\n",
    "                               emb_dim=emb_dim,\n",
    "                               num_layers=3\n",
    "                               )"
   ]
  },
  {
   "cell_type": "markdown",
   "metadata": {},
   "source": [
    "## Create data generators\n",
    "\n",
    "Read *data_utils.py* for more information"
   ]
  },
  {
   "cell_type": "code",
   "execution_count": 6,
   "metadata": {
    "collapsed": true
   },
   "outputs": [],
   "source": [
    "val_batch_gen = data_utils.rand_batch_gen(validX, validY, 16)\n",
    "train_batch_gen = data_utils.rand_batch_gen(trainX, trainY, 128)"
   ]
  },
  {
   "cell_type": "markdown",
   "metadata": {},
   "source": [
    "- Computational graph was built when the model was instantiated\n",
    "- Now all we need to do is train the model using processed CMUdict dataset, via data generators\n",
    "- Internally a loop is run for *epochs* times for training\n",
    "- Evaluation is done periodically."
   ]
  },
  {
   "cell_type": "markdown",
   "metadata": {},
   "source": [
    "## Train"
   ]
  },
  {
   "cell_type": "code",
   "execution_count": 16,
   "metadata": {
    "collapsed": false
   },
   "outputs": [
    {
     "name": "stdout",
     "output_type": "stream",
     "text": [
      "\n",
      "Model saved to disk at iteration #5000\n",
      "val   loss : 0.428838\n",
      "\n",
      "Model saved to disk at iteration #10000\n",
      "val   loss : 0.352279\n",
      "\n",
      "Model saved to disk at iteration #15000\n",
      "val   loss : 0.302959\n",
      "\n",
      "Model saved to disk at iteration #20000\n",
      "val   loss : 0.290396\n",
      "\n",
      "Model saved to disk at iteration #25000\n",
      "val   loss : 0.250649\n",
      "\n",
      "Model saved to disk at iteration #30000\n",
      "val   loss : 0.239168\n",
      "\n",
      "Model saved to disk at iteration #35000\n",
      "val   loss : 0.198182\n",
      "\n",
      "Model saved to disk at iteration #40000\n",
      "val   loss : 0.203086\n",
      "\n",
      "Model saved to disk at iteration #45000\n",
      "val   loss : 0.213277\n",
      "\n",
      "Model saved to disk at iteration #50000\n",
      "val   loss : 0.208600\n",
      "\n",
      "Model saved to disk at iteration #55000\n",
      "val   loss : 0.228991\n",
      "\n",
      "Model saved to disk at iteration #60000\n",
      "val   loss : 0.205643\n",
      "Interrupted by user at iteration 60001\n"
     ]
    }
   ],
   "source": [
    "sess = model.train(train_batch_gen, val_batch_gen, sess=sess1)"
   ]
  },
  {
   "cell_type": "markdown",
   "metadata": {},
   "source": [
    "## Restore last saved session from disk"
   ]
  },
  {
   "cell_type": "code",
   "execution_count": 30,
   "metadata": {
    "collapsed": false
   },
   "outputs": [],
   "source": [
    "sess = model.restore_last_session()"
   ]
  },
  {
   "cell_type": "markdown",
   "metadata": {},
   "source": [
    "## Predict"
   ]
  },
  {
   "cell_type": "code",
   "execution_count": 31,
   "metadata": {
    "collapsed": false
   },
   "outputs": [
    {
     "name": "stdout",
     "output_type": "stream",
     "text": [
      "(16, 16)\n"
     ]
    }
   ],
   "source": [
    "output = model.predict(sess, val_batch_gen.__next__()[0])\n",
    "print(output.shape)"
   ]
  },
  {
   "cell_type": "code",
   "execution_count": 32,
   "metadata": {
    "collapsed": false
   },
   "outputs": [
    {
     "data": {
      "text/plain": [
       "array([[20,  1, 24, 16,  1, 18,  5,  0,  0,  0,  0,  0,  0,  0,  0,  0],\n",
       "       [ 6, 18,  9, 14,  7,  5, 19,  0,  0,  0,  0,  0,  0,  0,  0,  0],\n",
       "       [14,  1, 12,  3,  1, 16,  0,  0,  0,  0,  0,  0,  0,  0,  0,  0],\n",
       "       [ 9, 14,  3, 15, 13, 16,  5, 20,  9, 14,  3, 25,  0,  0,  0,  0],\n",
       "       [21, 14, 19, 21, 19,  2, 18,  9,  3,  2,  5,  0,  0,  0,  0,  0],\n",
       "       [ 1, 19, 16,  5,  3, 20, 19,  0,  0,  0,  0,  0,  0,  0,  0,  0],\n",
       "       [ 5, 20,  8,  5, 12,  9, 14,  4,  1,  0,  0,  0,  0,  0,  0,  0],\n",
       "       [ 3, 15, 14,  6,  5, 18, 19,  0,  0,  0,  0,  0,  0,  0,  0,  0],\n",
       "       [ 2, 12,  1,  3, 11,  5, 20, 20,  0,  0,  0,  0,  0,  0,  0,  0],\n",
       "       [16, 18, 15,  6,  9, 20,  9, 14,  7,  0,  0,  0,  0,  0,  0,  0],\n",
       "       [ 2,  5, 14,  3,  8, 12,  5, 25,  0,  0,  0,  0,  0,  0,  0,  0],\n",
       "       [ 7, 18, 15, 19, 19,  6,  5, 12,  4,  0,  0,  0,  0,  0,  0,  0],\n",
       "       [ 8,  1, 12, 12,  1,  7,  5, 14,  0,  0,  0,  0,  0,  0,  0,  0],\n",
       "       [18,  5, 22,  5, 18, 19,  9, 14,  7,  0,  0,  0,  0,  0,  0,  0],\n",
       "       [26,  1, 14,  4,  5, 18, 19,  0,  0,  0,  0,  0,  0,  0,  0,  0],\n",
       "       [ 3, 15,  3, 20,  1, 12,  5, 19,  0,  0,  0,  0,  0,  0,  0,  0]])"
      ]
     },
     "execution_count": 32,
     "metadata": {},
     "output_type": "execute_result"
    }
   ],
   "source": [
    "output"
   ]
  },
  {
   "cell_type": "markdown",
   "metadata": {},
   "source": [
    "## Let us decode and see the words"
   ]
  },
  {
   "cell_type": "code",
   "execution_count": 33,
   "metadata": {
    "collapsed": false
   },
   "outputs": [
    {
     "name": "stdout",
     "output_type": "stream",
     "text": [
      "taxpare\n",
      "fringes\n",
      "nalcap\n",
      "incompetincy\n",
      "unsusbricbe\n",
      "aspects\n",
      "ethelinda\n",
      "confers\n",
      "blackett\n",
      "profiting\n",
      "benchley\n",
      "grossfeld\n",
      "hallagen\n",
      "reversing\n",
      "zanders\n",
      "coctales\n"
     ]
    }
   ],
   "source": [
    "for oi in output:\n",
    "    print(data_utils.decode_word(oi, data_ctl['idx2alpha']))"
   ]
  }
 ],
 "metadata": {
  "kernelspec": {
   "display_name": "Python 3",
   "language": "python",
   "name": "python3"
  },
  "language_info": {
   "codemirror_mode": {
    "name": "ipython",
    "version": 3
   },
   "file_extension": ".py",
   "mimetype": "text/x-python",
   "name": "python",
   "nbconvert_exporter": "python",
   "pygments_lexer": "ipython3",
   "version": "3.5.2"
  }
 },
 "nbformat": 4,
 "nbformat_minor": 0
}
