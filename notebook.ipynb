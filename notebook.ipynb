{
 "cells": [
  {
   "cell_type": "markdown",
   "metadata": {},
   "source": [
    "# Demonstrate Seq2Seq Wrapper with CMUDict dataset"
   ]
  },
  {
   "cell_type": "code",
   "execution_count": 1,
   "metadata": {
    "collapsed": true
   },
   "outputs": [],
   "source": [
    "import tensorflow as tf\n",
    "import numpy as np\n",
    "\n",
    "# preprocessed data\n",
    "from datasets.cmudict import data, data_utils"
   ]
  },
  {
   "cell_type": "code",
   "execution_count": 2,
   "metadata": {
    "collapsed": false
   },
   "outputs": [],
   "source": [
    "# load data from pickle and npy files\n",
    "data_ctl, idx_words, idx_phonemes = data.load_data(PATH='datasets/cmudict/')\n",
    "(trainX, trainY), (testX, testY), (validX, validY) = data_utils.split_dataset(idx_phonemes, idx_words)"
   ]
  },
  {
   "cell_type": "code",
   "execution_count": 3,
   "metadata": {
    "collapsed": false
   },
   "outputs": [],
   "source": [
    "# parameters \n",
    "xseq_len = trainX.shape[-1]\n",
    "yseq_len = trainY.shape[-1]\n",
    "batch_size = 128\n",
    "xvocab_size = len(data_ctl['idx2pho'].keys())  \n",
    "yvocab_size = len(data_ctl['idx2alpha'].keys())\n",
    "emb_dim = 128"
   ]
  },
  {
   "cell_type": "markdown",
   "metadata": {},
   "source": [
    "## Create an instance of the Wrapper"
   ]
  },
  {
   "cell_type": "code",
   "execution_count": 4,
   "metadata": {
    "collapsed": false
   },
   "outputs": [],
   "source": [
    "import seq2seq_wrapper"
   ]
  },
  {
   "cell_type": "code",
   "execution_count": 5,
   "metadata": {
    "collapsed": false
   },
   "outputs": [],
   "source": [
    "model = seq2seq_wrapper.Seq2Seq(xseq_len=xseq_len,\n",
    "                               yseq_len=yseq_len,\n",
    "                               xvocab_size=xvocab_size,\n",
    "                               yvocab_size=yvocab_size,\n",
    "                               emb_dim=emb_dim,\n",
    "                               num_layers=3\n",
    "                               )"
   ]
  },
  {
   "cell_type": "markdown",
   "metadata": {},
   "source": [
    "## Create data generators\n",
    "\n",
    "Read *data_utils.py* for more information"
   ]
  },
  {
   "cell_type": "code",
   "execution_count": 6,
   "metadata": {
    "collapsed": true
   },
   "outputs": [],
   "source": [
    "val_batch_gen = data_utils.rand_batch_gen(validX, validY, 16)\n",
    "train_batch_gen = data_utils.rand_batch_gen(trainX, trainY, 128)"
   ]
  },
  {
   "cell_type": "markdown",
   "metadata": {},
   "source": [
    "- Computational graph was built when the model was instantiated\n",
    "- Now all we need to do is train the model using processed CMUdict dataset, via data generators\n",
    "- Internally a loop is run for *epochs* times for training\n",
    "- Evaluation is done periodically."
   ]
  },
  {
   "cell_type": "markdown",
   "metadata": {},
   "source": [
    "## Train"
   ]
  },
  {
   "cell_type": "code",
   "execution_count": null,
   "metadata": {
    "collapsed": false
   },
   "outputs": [],
   "source": [
    "sess = model.train(train_batch_gen, val_batch_gen)"
   ]
  },
  {
   "cell_type": "markdown",
   "metadata": {},
   "source": [
    "## Restore last saved session from disk"
   ]
  },
  {
   "cell_type": "code",
   "execution_count": 7,
   "metadata": {
    "collapsed": false
   },
   "outputs": [],
   "source": [
    "sess1 = model.restore_last_session()"
   ]
  },
  {
   "cell_type": "markdown",
   "metadata": {},
   "source": [
    "## Predict"
   ]
  },
  {
   "cell_type": "code",
   "execution_count": 8,
   "metadata": {
    "collapsed": false
   },
   "outputs": [
    {
     "name": "stdout",
     "output_type": "stream",
     "text": [
      "(16, 16)\n"
     ]
    }
   ],
   "source": [
    "output = model.predict(sess1, val_batch_gen.__next__()[0])\n",
    "print(output.shape)"
   ]
  },
  {
   "cell_type": "code",
   "execution_count": 11,
   "metadata": {
    "collapsed": false
   },
   "outputs": [
    {
     "data": {
      "text/plain": [
       "array([[ 2, 21,  6,  3,  9, 14,  0,  0,  0,  0,  0,  0,  0,  0,  0,  0],\n",
       "       [ 4,  5, 16, 16, 18,  9, 20,  9, 14,  7,  0,  0,  0,  0,  0,  0],\n",
       "       [18,  5, 16, 18,  1, 20,  5,  0,  0,  0,  0,  0,  0,  0,  0,  0],\n",
       "       [19,  8,  1, 16, 16,  1,  1, 12, 18,  0,  0,  0,  0,  0,  0,  0],\n",
       "       [ 7,  1, 14,  9, 15, 14,  0,  0,  0,  0,  0,  0,  0,  0,  0,  0],\n",
       "       [16, 15, 16, 12,  1,  3,  1,  0,  0,  0,  0,  0,  0,  0,  0,  0],\n",
       "       [ 6, 15, 18, 19, 12, 15, 14,  4,  0,  0,  0,  0,  0,  0,  0,  0],\n",
       "       [ 5, 14,  3, 15, 13,  2,  5, 18,  4,  0,  0,  0,  0,  0,  0,  0],\n",
       "       [16, 18, 15,  6,  6,  9, 19,  5, 19,  0,  0,  0,  0,  0,  0,  0],\n",
       "       [ 1, 12, 21, 19,  9, 15, 14,  0,  0,  0,  0,  0,  0,  0,  0,  0],\n",
       "       [ 7, 15, 12,  4, 19, 20, 15, 14,  0,  0,  0,  0,  0,  0,  0,  0],\n",
       "       [ 3, 15, 12, 12, 21, 19,  9, 14,  0,  0,  0,  0,  0,  0,  0,  0],\n",
       "       [ 3, 18,  5,  4,  5,  2, 12,  1,  0,  0,  0,  0,  0,  0,  0,  0],\n",
       "       [18,  5,  3,  3, 14,  1, 20, 12,  5, 18,  0,  0,  0,  0,  0,  0],\n",
       "       [19,  1, 14,  4,  5,  6, 18,  0,  0,  0,  0,  0,  0,  0,  0,  0],\n",
       "       [16, 18,  5, 18,  9, 14,  5,  0,  0,  0,  0,  0,  0,  0,  0,  0]])"
      ]
     },
     "execution_count": 11,
     "metadata": {},
     "output_type": "execute_result"
    }
   ],
   "source": [
    "output"
   ]
  },
  {
   "cell_type": "markdown",
   "metadata": {},
   "source": [
    "## Let us decode and see the words"
   ]
  },
  {
   "cell_type": "code",
   "execution_count": 14,
   "metadata": {
    "collapsed": false
   },
   "outputs": [
    {
     "name": "stdout",
     "output_type": "stream",
     "text": [
      "bufcin\n",
      "deppriting\n",
      "reprate\n",
      "shappaalr\n",
      "ganion\n",
      "poplaca\n",
      "forslond\n",
      "encomberd\n",
      "proffises\n",
      "alusion\n",
      "goldston\n",
      "collusin\n",
      "credebla\n",
      "reccnatler\n",
      "sandefr\n",
      "prerine\n"
     ]
    }
   ],
   "source": [
    "for oi in output:\n",
    "    print(data_utils.decode_word(oi, data_ctl['idx2alpha']))"
   ]
  }
 ],
 "metadata": {
  "kernelspec": {
   "display_name": "Python 3",
   "language": "python",
   "name": "python3"
  },
  "language_info": {
   "codemirror_mode": {
    "name": "ipython",
    "version": 3
   },
   "file_extension": ".py",
   "mimetype": "text/x-python",
   "name": "python",
   "nbconvert_exporter": "python",
   "pygments_lexer": "ipython3",
   "version": "3.5.2"
  }
 },
 "nbformat": 4,
 "nbformat_minor": 0
}
